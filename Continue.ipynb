{
  "nbformat": 4,
  "nbformat_minor": 0,
  "metadata": {
    "colab": {
      "name": "Continue.ipynb",
      "provenance": [],
      "collapsed_sections": []
    },
    "kernelspec": {
      "name": "python3",
      "display_name": "Python 3"
    },
    "language_info": {
      "name": "python"
    }
  },
  "cells": [
    {
      "cell_type": "markdown",
      "source": [
        "**Continue**\n",
        "\n",
        "- The continue statement means skipping the current iteration of a loop and continuing (immediately jumps) with the next iteration.\n",
        "- To do this, use the continue keyword to skip a block in a loop the current iteration.\n",
        "- It doesn’t terminate the loop but continues in the next iteration ignoring the specified block of code."
      ],
      "metadata": {
        "id": "bML0f9lypSII"
      }
    },
    {
      "cell_type": "code",
      "source": [
        "# continue loop when integer 7\n",
        "for integer in range(10):\n",
        "    if integer == 7:\n",
        "        continue\n",
        "    print(integer)"
      ],
      "metadata": {
        "colab": {
          "base_uri": "https://localhost:8080/"
        },
        "id": "hNJ7rrEV-nf6",
        "outputId": "3120bdc7-c01a-488a-f19a-067ea3167665"
      },
      "execution_count": 1,
      "outputs": [
        {
          "output_type": "stream",
          "name": "stdout",
          "text": [
            "0\n",
            "1\n",
            "2\n",
            "3\n",
            "4\n",
            "5\n",
            "6\n",
            "8\n",
            "9\n"
          ]
        }
      ]
    },
    {
      "cell_type": "code",
      "source": [
        "# for multiple continuing a loop\n",
        "input = \"Matplotlib\"\n",
        "for task in input:\n",
        "  if task == \"a\" or task == \"i\":\n",
        "    continue\n",
        "  elif task == \"u\":\n",
        "    continue\n",
        "  elif task == \"e\" or task == \"o\": \n",
        "    continue\n",
        "  print(task)"
      ],
      "metadata": {
        "colab": {
          "base_uri": "https://localhost:8080/"
        },
        "id": "Q4cBN86hH0hD",
        "outputId": "77dd61ce-835f-4fa7-ffbd-170c28cf49a2"
      },
      "execution_count": 2,
      "outputs": [
        {
          "output_type": "stream",
          "name": "stdout",
          "text": [
            "M\n",
            "t\n",
            "p\n",
            "l\n",
            "t\n",
            "l\n",
            "b\n"
          ]
        }
      ]
    },
    {
      "cell_type": "code",
      "source": [
        "# In the case of an inner loop, it continues the inner loop only\n",
        "name = \"Fitri Alfaqrina\"\n",
        "count = 0\n",
        "\n",
        "for char in name:\n",
        "    if char != \"i\":\n",
        "      continue\n",
        "    else:\n",
        "      count = count + 1\n",
        "\n",
        "print(\"Total number of i is:\", count)"
      ],
      "metadata": {
        "colab": {
          "base_uri": "https://localhost:8080/"
        },
        "id": "uviqYkwsC-s_",
        "outputId": "e505e9ca-13a9-4406-dcb5-822e9a8936de"
      },
      "execution_count": 3,
      "outputs": [
        {
          "output_type": "stream",
          "name": "stdout",
          "text": [
            "Total number of i is: 3\n"
          ]
        }
      ]
    },
    {
      "cell_type": "code",
      "source": [
        "# adding evens  \n",
        "numbers = [1, 2, 3, 5, 7, 10, 13, 17, 21, 26, 31]\n",
        "sum = 0\n",
        "\n",
        "for i in numbers:\n",
        "    if i % 2 != 0:\n",
        "        continue\n",
        "    sum += i\n",
        "print(\"Sum =\",sum)\n",
        "# Sum of 2, 10, and 26 "
      ],
      "metadata": {
        "colab": {
          "base_uri": "https://localhost:8080/"
        },
        "id": "K8uOR1rpNt_d",
        "outputId": "5383d9da-436b-4a4c-ff40-12c4ea08c461"
      },
      "execution_count": 4,
      "outputs": [
        {
          "output_type": "stream",
          "name": "stdout",
          "text": [
            "Sum = 38\n"
          ]
        }
      ]
    },
    {
      "cell_type": "markdown",
      "source": [
        "##Thanks you!\n",
        "**Have a great day..**\\\n",
        "*See you again* ☺️"
      ],
      "metadata": {
        "id": "Sf3FygMLaFMt"
      }
    }
  ]
}