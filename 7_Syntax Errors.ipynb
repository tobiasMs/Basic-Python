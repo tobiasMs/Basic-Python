{
  "nbformat": 4,
  "nbformat_minor": 0,
  "metadata": {
    "colab": {
      "name": "Syntax Errors.ipynb",
      "provenance": [],
      "collapsed_sections": []
    },
    "kernelspec": {
      "name": "python3",
      "display_name": "Python 3"
    },
    "language_info": {
      "name": "python"
    }
  },
  "cells": [
    {
      "cell_type": "markdown",
      "source": [
        "##Syntax Errors in Python"
      ],
      "metadata": {
        "id": "AWGT7XGlWzKL"
      }
    },
    {
      "cell_type": "markdown",
      "source": [
        "Syntax error is an error caused by not following the proper structure (syntax) of the language in Python. Syntax errors usually occur due to writing errors or incomplete syntax writing so that python cannot process the desired command."
      ],
      "metadata": {
        "id": "56_GcYqjXWXl"
      }
    },
    {
      "cell_type": "code",
      "execution_count": null,
      "metadata": {
        "colab": {
          "base_uri": "https://localhost:8080/",
          "height": 135
        },
        "id": "sAA6iy0MWqFU",
        "outputId": "54ae0802-f4ab-4eb7-88e8-0c36f85fd3f8"
      },
      "outputs": [
        {
          "output_type": "error",
          "ename": "IndentationError",
          "evalue": "ignored",
          "traceback": [
            "\u001b[0;36m  File \u001b[0;32m\"<ipython-input-2-3152b13fdc3e>\"\u001b[0;36m, line \u001b[0;32m4\u001b[0m\n\u001b[0;31m    print (i)\u001b[0m\n\u001b[0m        ^\u001b[0m\n\u001b[0;31mIndentationError\u001b[0m\u001b[0;31m:\u001b[0m expected an indented block\n"
          ]
        }
      ],
      "source": [
        "#Syntax error due to missing an indented block in the for looping\n",
        "\n",
        "numbers = [1,2,3]\n",
        "\n",
        "for i in numbers :\n",
        "print (i)"
      ]
    },
    {
      "cell_type": "code",
      "source": [
        "#Syntax error due to missing a colon (:) in if statement\n",
        "\n",
        "if a < 3\n",
        "print(\"This is number three\")"
      ],
      "metadata": {
        "colab": {
          "base_uri": "https://localhost:8080/",
          "height": 135
        },
        "id": "1nWFLjlSZXxv",
        "outputId": "ac563f34-6892-496b-af48-42a571bd436e"
      },
      "execution_count": null,
      "outputs": [
        {
          "output_type": "error",
          "ename": "SyntaxError",
          "evalue": "ignored",
          "traceback": [
            "\u001b[0;36m  File \u001b[0;32m\"<ipython-input-3-440e4ebdc342>\"\u001b[0;36m, line \u001b[0;32m1\u001b[0m\n\u001b[0;31m    if a < 3\u001b[0m\n\u001b[0m            ^\u001b[0m\n\u001b[0;31mSyntaxError\u001b[0m\u001b[0;31m:\u001b[0m invalid syntax\n"
          ]
        }
      ]
    },
    {
      "cell_type": "code",
      "source": [
        "#Syntax error due to missing Quotation Marks for string data type\n",
        "\n",
        "print(Hello World)"
      ],
      "metadata": {
        "colab": {
          "base_uri": "https://localhost:8080/",
          "height": 135
        },
        "id": "grn4uLO_aOzm",
        "outputId": "db4f9523-57c7-48cc-ca5c-a75051e35e2c"
      },
      "execution_count": null,
      "outputs": [
        {
          "output_type": "error",
          "ename": "SyntaxError",
          "evalue": "ignored",
          "traceback": [
            "\u001b[0;36m  File \u001b[0;32m\"<ipython-input-4-10cb182148e3>\"\u001b[0;36m, line \u001b[0;32m1\u001b[0m\n\u001b[0;31m    print(Hello World)\u001b[0m\n\u001b[0m                    ^\u001b[0m\n\u001b[0;31mSyntaxError\u001b[0m\u001b[0;31m:\u001b[0m invalid syntax\n"
          ]
        }
      ]
    }
  ]
}