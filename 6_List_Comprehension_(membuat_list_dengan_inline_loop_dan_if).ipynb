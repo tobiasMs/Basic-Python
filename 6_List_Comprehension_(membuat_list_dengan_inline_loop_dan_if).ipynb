{
  "nbformat": 4,
  "nbformat_minor": 0,
  "metadata": {
    "colab": {
      "name": "6. List Comprehension (membuat list dengan inline loop dan if).ipynb",
      "provenance": [],
      "collapsed_sections": []
    },
    "kernelspec": {
      "name": "python3",
      "display_name": "Python 3"
    },
    "language_info": {
      "name": "python"
    }
  },
  "cells": [
    {
      "cell_type": "markdown",
      "source": [
        "#List Comprehension (create a list with inline loop and if)\n",
        "\n",
        "List comprehensions are an easy way to define and create lists in Python.\n",
        "\n",
        "List comprehensions consist of an expression followed by a for statement enclosed in brackets [ ]. Using list comprehensions we can create lists automatically in one command line. This is very useful if the list members we want to create is quite a lot."
      ],
      "metadata": {
        "id": "UPjXo7_D7spM"
      }
    },
    {
      "cell_type": "markdown",
      "source": [
        "there are times when we need to create a new list from the previous list operation\n",
        "\n",
        "list comperhension is a way to generate a new list based on an existing list or iterables"
      ],
      "metadata": {
        "id": "guzv1TIQEsPw"
      }
    },
    {
      "cell_type": "code",
      "source": [
        "angka = [2,3,4]"
      ],
      "metadata": {
        "id": "9rNEqjQ98Djt"
      },
      "execution_count": null,
      "outputs": []
    },
    {
      "cell_type": "code",
      "source": [
        "kubik = [] #Pangkat 3"
      ],
      "metadata": {
        "id": "z6jEnNPy8HH1"
      },
      "execution_count": null,
      "outputs": []
    },
    {
      "cell_type": "code",
      "source": [
        "kubik"
      ],
      "metadata": {
        "colab": {
          "base_uri": "https://localhost:8080/"
        },
        "id": "WrqZwKN48uCL",
        "outputId": "c1562cf7-0f33-41c7-a6f5-bdc0202b69f4"
      },
      "execution_count": null,
      "outputs": [
        {
          "output_type": "execute_result",
          "data": {
            "text/plain": [
              "[]"
            ]
          },
          "metadata": {},
          "execution_count": 3
        }
      ]
    },
    {
      "cell_type": "code",
      "source": [
        "for i in angka:\n",
        "  kubik.append(i**3) #menambahkan\n",
        "print(kubik)"
      ],
      "metadata": {
        "colab": {
          "base_uri": "https://localhost:8080/"
        },
        "id": "VwalaJbO8Neo",
        "outputId": "ea934021-6bc5-4ec2-9138-9be1f6b89810"
      },
      "execution_count": null,
      "outputs": [
        {
          "output_type": "stream",
          "name": "stdout",
          "text": [
            "[8, 27, 64]\n"
          ]
        }
      ]
    },
    {
      "cell_type": "code",
      "source": [
        "import math\n",
        "\n",
        "num = [4,9,16]\n",
        "\n",
        "kubik = []\n",
        "\n",
        "for i in num:\n",
        "  kubik.append(math.sqrt(i))\n",
        "print(kubik)\n"
      ],
      "metadata": {
        "colab": {
          "base_uri": "https://localhost:8080/"
        },
        "id": "j95Q7o3L9N7y",
        "outputId": "1fe47a7e-e58e-489b-b5a7-b6b9c2a19f72"
      },
      "execution_count": null,
      "outputs": [
        {
          "output_type": "stream",
          "name": "stdout",
          "text": [
            "[2.0, 3.0, 4.0]\n"
          ]
        }
      ]
    },
    {
      "cell_type": "markdown",
      "source": [
        "Writing in another way\n",
        "\n",
        "new_list = [expression for_loop_one_or_more conditions]"
      ],
      "metadata": {
        "id": "D5QtOQvytqk6"
      }
    },
    {
      "cell_type": "code",
      "source": [
        "angka = [2,3,4]"
      ],
      "metadata": {
        "id": "_My05S54t1jC"
      },
      "execution_count": null,
      "outputs": []
    },
    {
      "cell_type": "code",
      "source": [
        "kubik = [i**3 for i in angka]"
      ],
      "metadata": {
        "id": "Oln2N_Tqt48O"
      },
      "execution_count": null,
      "outputs": []
    },
    {
      "cell_type": "code",
      "source": [
        "print(kubik)"
      ],
      "metadata": {
        "colab": {
          "base_uri": "https://localhost:8080/"
        },
        "id": "Miu4RhEKt9vo",
        "outputId": "4c5a45c1-369a-4f68-ee68-e91dbba70745"
      },
      "execution_count": null,
      "outputs": [
        {
          "output_type": "stream",
          "name": "stdout",
          "text": [
            "[8, 27, 64]\n"
          ]
        }
      ]
    },
    {
      "cell_type": "code",
      "source": [
        "abc = ['a', 'b', 'c']\n",
        "cde = ['c', 'd', 'e']\n",
        "\n",
        "duplikat = []\n",
        "\n",
        "for i in abc:\n",
        "  for j in cde:\n",
        "    if i == j: #mengecek apakah ada huruf yang sama\n",
        "     duplikat.append(i)\n",
        "\n",
        "print(duplikat)"
      ],
      "metadata": {
        "colab": {
          "base_uri": "https://localhost:8080/"
        },
        "id": "HolE89JFuE8L",
        "outputId": "c11041ff-af9e-47e9-a0ca-4232992d9cdf"
      },
      "execution_count": null,
      "outputs": [
        {
          "output_type": "stream",
          "name": "stdout",
          "text": [
            "['c']\n"
          ]
        }
      ]
    },
    {
      "cell_type": "code",
      "source": [
        "abc = ['a', 'b', 'c']\n",
        "cde = ['c', 'd', 'e']\n",
        "\n",
        "duplikat = [i for i in abc for j in cde if i ==j]\n",
        "\n",
        "print(duplikat)"
      ],
      "metadata": {
        "colab": {
          "base_uri": "https://localhost:8080/"
        },
        "id": "qVngu9H-yxSS",
        "outputId": "f46dc7b1-f4cc-4603-d8c0-a40d112fa4a8"
      },
      "execution_count": null,
      "outputs": [
        {
          "output_type": "stream",
          "name": "stdout",
          "text": [
            "['c']\n"
          ]
        }
      ]
    },
    {
      "cell_type": "code",
      "source": [
        "data = [\"data\", \"science\"]\n",
        "\n",
        "upper = [_.upper() for _ in data]\n",
        "\n",
        "print(upper)"
      ],
      "metadata": {
        "colab": {
          "base_uri": "https://localhost:8080/"
        },
        "id": "P_GweQpMzBzb",
        "outputId": "f79aef5f-dae5-4d8e-c4b7-bedd1e5c8749"
      },
      "execution_count": null,
      "outputs": [
        {
          "output_type": "stream",
          "name": "stdout",
          "text": [
            "['DATA', 'SCIENCE']\n"
          ]
        }
      ]
    },
    {
      "cell_type": "code",
      "source": [
        "a = 'sari'"
      ],
      "metadata": {
        "id": "C92I75oGzQgc"
      },
      "execution_count": null,
      "outputs": []
    },
    {
      "cell_type": "code",
      "source": [
        "a.upper()"
      ],
      "metadata": {
        "colab": {
          "base_uri": "https://localhost:8080/",
          "height": 34
        },
        "id": "9PEZjw6vzh-M",
        "outputId": "7b996a1e-9006-4870-d841-f81b7548ccfe"
      },
      "execution_count": null,
      "outputs": [
        {
          "output_type": "execute_result",
          "data": {
            "text/plain": [
              "'SARI'"
            ],
            "application/vnd.google.colaboratory.intrinsic+json": {
              "type": "string"
            }
          },
          "metadata": {},
          "execution_count": 13
        }
      ]
    },
    {
      "cell_type": "code",
      "source": [
        "for i in \"sari\":\n",
        "  print(i)"
      ],
      "metadata": {
        "colab": {
          "base_uri": "https://localhost:8080/"
        },
        "id": "TOYY3Amjz4Q6",
        "outputId": "b03bae62-a72a-4eb6-8c75-a040e537b742"
      },
      "execution_count": null,
      "outputs": [
        {
          "output_type": "stream",
          "name": "stdout",
          "text": [
            "s\n",
            "a\n",
            "r\n",
            "i\n"
          ]
        }
      ]
    },
    {
      "cell_type": "markdown",
      "source": [
        "#TASK 1"
      ],
      "metadata": {
        "id": "fX5eBK972AP5"
      }
    },
    {
      "cell_type": "code",
      "source": [
        "name = [\"sari\", \"yuliastuti\"] #cara 1\n",
        "title = [_.title() for _ in name]\n",
        "print(title)"
      ],
      "metadata": {
        "colab": {
          "base_uri": "https://localhost:8080/"
        },
        "id": "dfVFmkDS01pW",
        "outputId": "501322b7-2f11-4c46-c002-33bfa23725e2"
      },
      "execution_count": null,
      "outputs": [
        {
          "output_type": "stream",
          "name": "stdout",
          "text": [
            "['Sari', 'Yuliastuti']\n"
          ]
        }
      ]
    },
    {
      "cell_type": "code",
      "source": [
        "name = [\"sari\", \"yuliastuti\"]  #cara 2\n",
        "\n",
        "proper = []\n",
        "\n",
        "for i in name:\n",
        "  proper.append(i.title())\n",
        "print(proper)"
      ],
      "metadata": {
        "colab": {
          "base_uri": "https://localhost:8080/"
        },
        "id": "4-S6EkHN1sDm",
        "outputId": "54531f50-9092-47b3-ec1d-24230148bb86"
      },
      "execution_count": null,
      "outputs": [
        {
          "output_type": "stream",
          "name": "stdout",
          "text": [
            "['Sari', 'Yuliastuti']\n"
          ]
        }
      ]
    },
    {
      "cell_type": "markdown",
      "source": [
        "Underscores include valid variable names in general \"_\" commonly used as throwaway variables (unimportant variables)"
      ],
      "metadata": {
        "id": "mpoCiqSY2F8b"
      }
    },
    {
      "cell_type": "code",
      "source": [
        "angka = range(1, 8, 2)\n",
        "kuadrat_kubik = [[_**2, _**3] for _ in angka] #memberikan pangkat pada angka\n",
        "print(kuadrat_kubik)"
      ],
      "metadata": {
        "colab": {
          "base_uri": "https://localhost:8080/"
        },
        "id": "52A-S_Cc2d9l",
        "outputId": "7170494f-3706-454b-8f71-fe619591e02d"
      },
      "execution_count": null,
      "outputs": [
        {
          "output_type": "stream",
          "name": "stdout",
          "text": [
            "[[1, 1], [9, 27], [25, 125], [49, 343]]\n"
          ]
        }
      ]
    },
    {
      "cell_type": "code",
      "source": [
        "for i in range(1, 8, 2):\n",
        "  print(i)"
      ],
      "metadata": {
        "colab": {
          "base_uri": "https://localhost:8080/"
        },
        "id": "HVRS-q2J3Cp6",
        "outputId": "7017421a-632d-48ac-d682-e3bcf31f52ea"
      },
      "execution_count": null,
      "outputs": [
        {
          "output_type": "stream",
          "name": "stdout",
          "text": [
            "1\n",
            "3\n",
            "5\n",
            "7\n"
          ]
        }
      ]
    },
    {
      "cell_type": "markdown",
      "source": [
        "#TASK 2"
      ],
      "metadata": {
        "id": "8Tbl6_Bp80DG"
      }
    },
    {
      "cell_type": "code",
      "source": [
        "pembilang = range(1,5)\n",
        "pembagi = range(1,5)\n",
        "\n",
        "daftar = []\n",
        "\n",
        "for x in pembilang: \n",
        "  for y in pembagi:\n",
        "    if x//y == 1 and x%y == 1:\n",
        "      daftar.append([x,y])\n",
        "\n",
        "print(daftar)"
      ],
      "metadata": {
        "colab": {
          "base_uri": "https://localhost:8080/"
        },
        "id": "JVtQlktM7yRX",
        "outputId": "ad93b982-c162-4ded-c6b2-a542fc874509"
      },
      "execution_count": null,
      "outputs": [
        {
          "output_type": "stream",
          "name": "stdout",
          "text": [
            "[[3, 2], [4, 3]]\n"
          ]
        }
      ]
    }
  ]
}