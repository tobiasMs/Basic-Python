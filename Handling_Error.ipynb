{
  "nbformat": 4,
  "nbformat_minor": 0,
  "metadata": {
    "colab": {
      "name": "Handling Error.ipynb",
      "provenance": [],
      "collapsed_sections": []
    },
    "kernelspec": {
      "name": "python3",
      "display_name": "Python 3"
    },
    "language_info": {
      "name": "python"
    }
  },
  "cells": [
    {
      "cell_type": "markdown",
      "source": [
        "#Try and Except"
      ],
      "metadata": {
        "id": "j6iiJKBSCw2L"
      }
    },
    {
      "cell_type": "markdown",
      "source": [
        "When an error occurs, or exception as we call it, Python will normally stop and generate an error message."
      ],
      "metadata": {
        "id": "ZcH7KhYwHB6N"
      }
    },
    {
      "cell_type": "markdown",
      "source": [
        "To avoid this, we can use the try and except function. The *'try'* function is used to run the error program. While *'except'* to skip each type of error then we can add words"
      ],
      "metadata": {
        "id": "f7unjn1bHYfu"
      }
    },
    {
      "cell_type": "markdown",
      "source": [
        "Function:\n",
        "\n",
        "  try: \n",
        "  \n",
        "    syntax/program\n",
        "\n",
        "  except (name of error):\n",
        "\n",
        "    print message for eror"
      ],
      "metadata": {
        "id": "anl59MLrJLHf"
      }
    },
    {
      "cell_type": "markdown",
      "source": [
        "#Value Error"
      ],
      "metadata": {
        "id": "RAS0aZ_TKGXR"
      }
    },
    {
      "cell_type": "code",
      "execution_count": 15,
      "metadata": {
        "colab": {
          "base_uri": "https://localhost:8080/"
        },
        "id": "afIj_hYDCm7n",
        "outputId": "ea1c0260-8f13-4e65-dbd3-a44a80dbd5a7"
      },
      "outputs": [
        {
          "output_type": "stream",
          "name": "stdout",
          "text": [
            "That was not a number.\n"
          ]
        }
      ],
      "source": [
        "try:\n",
        "         x = int('aku')\n",
        "except ValueError:\n",
        "         print(\"That was not a number.\")"
      ]
    },
    {
      "cell_type": "markdown",
      "source": [
        "#Name Error"
      ],
      "metadata": {
        "id": "-qmfLmwzKKu6"
      }
    },
    {
      "cell_type": "code",
      "source": [
        "try:\n",
        "  print(number)\n",
        "except NameError:\n",
        "  print('not defined')"
      ],
      "metadata": {
        "colab": {
          "base_uri": "https://localhost:8080/"
        },
        "id": "CXMCmAKSIi3C",
        "outputId": "e150cb3d-42d7-4db9-be8e-2b0bd2397ed3"
      },
      "execution_count": 17,
      "outputs": [
        {
          "output_type": "stream",
          "name": "stdout",
          "text": [
            "not defined\n"
          ]
        }
      ]
    },
    {
      "cell_type": "markdown",
      "source": [
        "#Zero Division Error"
      ],
      "metadata": {
        "id": "Z_I0mNfFKPSg"
      }
    },
    {
      "cell_type": "code",
      "source": [
        "try:\n",
        "  a=0/0\n",
        "  print(a)\n",
        "except ZeroDivisionError:\n",
        "  print('Can\\'t devide by zero')"
      ],
      "metadata": {
        "colab": {
          "base_uri": "https://localhost:8080/"
        },
        "id": "p8BaSTSfKZur",
        "outputId": "dedad424-62d2-4e35-a5f3-a482df106fd7"
      },
      "execution_count": 18,
      "outputs": [
        {
          "output_type": "stream",
          "name": "stdout",
          "text": [
            "Can't devide by zero\n"
          ]
        }
      ]
    },
    {
      "cell_type": "markdown",
      "source": [
        "#Except and Try Combination"
      ],
      "metadata": {
        "id": "AALN48zqKtFS"
      }
    },
    {
      "cell_type": "markdown",
      "source": [
        "Exceptions can be combined with more than one exceptions as a tuple"
      ],
      "metadata": {
        "id": "lTrD4E7ZNfWO"
      }
    },
    {
      "cell_type": "code",
      "source": [
        "try:\n",
        "  x = int(input(\"Please enter a number 1: \"))\n",
        "  y = int(input(\"Please enter a number 2: \"))\n",
        "  z=x/y\n",
        "  print(z)\n",
        "except (ValueError,TypeError,ZeroDivisionError):\n",
        "  print(\"That was no valid number\")"
      ],
      "metadata": {
        "colab": {
          "base_uri": "https://localhost:8080/"
        },
        "id": "dYm3r3P2NkJ6",
        "outputId": "d5e9f760-4f0d-4474-bf12-48fecbb3b7c6"
      },
      "execution_count": 27,
      "outputs": [
        {
          "output_type": "stream",
          "name": "stdout",
          "text": [
            "Please enter a number 1: 0\n",
            "Please enter a number 2: a\n",
            "That was no valid number\n"
          ]
        }
      ]
    },
    {
      "cell_type": "markdown",
      "source": [
        "Exceptions can be combined with more than one exceptions so that they can display the text for each condition"
      ],
      "metadata": {
        "id": "OL73i4qxKypH"
      }
    },
    {
      "cell_type": "code",
      "source": [
        "try:\n",
        "  x = int(input(\"Please enter a number 1: \"))\n",
        "  y = int(input(\"Please enter a number 2: \"))\n",
        "  z=x/y\n",
        "  print(z)\n",
        "except ValueError:\n",
        "  print(\"That was no valid number\")\n",
        "except ZeroDivisionError:\n",
        " print('Can\\'t devide by zero')"
      ],
      "metadata": {
        "colab": {
          "base_uri": "https://localhost:8080/"
        },
        "id": "l0agu8XwLCc5",
        "outputId": "d60e6e08-1916-46bd-9027-2bd177258d14"
      },
      "execution_count": 22,
      "outputs": [
        {
          "output_type": "stream",
          "name": "stdout",
          "text": [
            "Please enter a number 1: 1\n",
            "Please enter a number 2: 0\n",
            "Can't devide by zero\n"
          ]
        }
      ]
    },
    {
      "cell_type": "code",
      "source": [
        "try:\n",
        "  x = int(input(\"Please enter a number 1: \"))\n",
        "  y = int(input(\"Please enter a number 2: \"))\n",
        "  z=x/y\n",
        "  print(z)\n",
        "except ValueError:\n",
        "  print(\"That was no valid number\")\n",
        "except ZeroDivisionError:\n",
        " print('Can\\'t devide by zero')"
      ],
      "metadata": {
        "colab": {
          "base_uri": "https://localhost:8080/"
        },
        "id": "4xLibkrWLwOs",
        "outputId": "e1eaa0f8-d6eb-44ca-8ba4-889dea7ed3f4"
      },
      "execution_count": 23,
      "outputs": [
        {
          "output_type": "stream",
          "name": "stdout",
          "text": [
            "Please enter a number 1: 1\n",
            "Please enter a number 2: a\n",
            "That was no valid number\n"
          ]
        }
      ]
    },
    {
      "cell_type": "markdown",
      "source": [
        "#Error Handling"
      ],
      "metadata": {
        "id": "ISYvig1KN3uc"
      }
    },
    {
      "cell_type": "markdown",
      "source": [
        "we can show how to solve it and the part of the error"
      ],
      "metadata": {
        "id": "RYai73hKO4ei"
      }
    },
    {
      "cell_type": "code",
      "source": [
        "e={'me':'0.5'}\n",
        "try:\n",
        "  print('number of me {}' .format(int(e['me'])))\n",
        "except(ValueError,TypeError)as d:\n",
        "  print('Handling: {}'.format(d))\n"
      ],
      "metadata": {
        "colab": {
          "base_uri": "https://localhost:8080/"
        },
        "id": "gTJjAudNN8U_",
        "outputId": "ba73a635-1a30-434d-fd6f-ddd145798d09"
      },
      "execution_count": 35,
      "outputs": [
        {
          "output_type": "stream",
          "name": "stdout",
          "text": [
            "Handling: invalid literal for int() with base 10: '0.5'\n"
          ]
        }
      ]
    }
  ]
}