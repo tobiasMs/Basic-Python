{
  "nbformat": 4,
  "nbformat_minor": 0,
  "metadata": {
    "colab": {
      "name": "For.ipynb",
      "provenance": [],
      "collapsed_sections": []
    },
    "kernelspec": {
      "name": "python3",
      "display_name": "Python 3"
    },
    "language_info": {
      "name": "python"
    }
  },
  "cells": [
    {
      "cell_type": "markdown",
      "source": [
        "**For**\\\n",
        "The for loop is used to iterate over a sequence such as a list, string, tuple, other iterable objects such as range.\n",
        "\n",
        "---\n",
        "*For Loop Syntax*\n",
        "- Use for keyword to define for loop and the iterator is defined using in the keyword.\n",
        "- The iterator is the variable that is used to iterate over the sequence. It is used to access each element in the sequence.\n",
        "\n",
        "*Looping a range of number*\n",
        "- The range() function returns a sequence of numbers starting from 0 (by default) if the initial limit is not specified and it increments by 1 (by default) until a final limit is reached.\n",
        "- The range() function is used with a loop to specify the range (how many times) the code block will be executed."
      ],
      "metadata": {
        "id": "a_g285d_awt6"
      }
    },
    {
      "cell_type": "code",
      "source": [
        "# Using for loop on list\n",
        "data = [\"analyst\", \"engineer\", \"science\"]\n",
        "\n",
        "# Using for loop\n",
        "# loop will run the code for each item in the list\n",
        "for job in data:\n",
        "    print(job)"
      ],
      "metadata": {
        "colab": {
          "base_uri": "https://localhost:8080/"
        },
        "id": "p8n6RGkfvZ-L",
        "outputId": "230fa2a3-0846-400b-961d-e79ef80266c6"
      },
      "execution_count": 1,
      "outputs": [
        {
          "output_type": "stream",
          "name": "stdout",
          "text": [
            "analyst\n",
            "engineer\n",
            "science\n"
          ]
        }
      ]
    },
    {
      "cell_type": "code",
      "source": [
        "# Looping over string\n",
        "loop = \"Matplotlib\"\n",
        "for my_team in loop:\n",
        "    print(my_team)"
      ],
      "metadata": {
        "colab": {
          "base_uri": "https://localhost:8080/"
        },
        "id": "ivO_VIUzwmLy",
        "outputId": "60ac4c97-a34a-47a5-8c2d-255fcbdfe176"
      },
      "execution_count": 2,
      "outputs": [
        {
          "output_type": "stream",
          "name": "stdout",
          "text": [
            "M\n",
            "a\n",
            "t\n",
            "p\n",
            "l\n",
            "o\n",
            "t\n",
            "l\n",
            "i\n",
            "b\n"
          ]
        }
      ]
    },
    {
      "cell_type": "code",
      "source": [
        "# Looping between a range of numbers\n",
        "# Looping from 5 to 9\n",
        "for number in range(5, 10): # 10 not included\n",
        "    print(number, end=\" \") # make output as row\n",
        "    print()"
      ],
      "metadata": {
        "colab": {
          "base_uri": "https://localhost:8080/"
        },
        "id": "4qk-g5DyxSfm",
        "outputId": "de8b8b7b-ff10-49dd-8f75-2b21c1f4f6b0"
      },
      "execution_count": 3,
      "outputs": [
        {
          "output_type": "stream",
          "name": "stdout",
          "text": [
            "5 \n",
            "6 \n",
            "7 \n",
            "8 \n",
            "9 \n"
          ]
        }
      ]
    },
    {
      "cell_type": "code",
      "source": [
        "integer = [1, 2, 3, 4, 5]\n",
        "# iterate over each element in list\n",
        "for my_number in integer:\n",
        "    # ** exponent operator\n",
        "    square = my_number ** 2\n",
        "    print(\"Square of:\", my_number, \"is:\", square)"
      ],
      "metadata": {
        "colab": {
          "base_uri": "https://localhost:8080/"
        },
        "id": "p3wAqlV00e0P",
        "outputId": "ca328ed8-5300-43f5-d3fd-c022492336d9"
      },
      "execution_count": 4,
      "outputs": [
        {
          "output_type": "stream",
          "name": "stdout",
          "text": [
            "Square of: 1 is: 1\n",
            "Square of: 2 is: 4\n",
            "Square of: 3 is: 9\n",
            "Square of: 4 is: 16\n",
            "Square of: 5 is: 25\n"
          ]
        }
      ]
    },
    {
      "cell_type": "markdown",
      "source": [
        "*Nested for loop*\n",
        "- A nesting loop means to loop over a sequence of sequences.\n",
        "- This is useful to loop over a sequence of items and then loop over the items in that sequence (a for loop inside another for a the loop).\n",
        "- A nested loop has one loop inside of another. It is mainly used with two-dimensional arrays.\n",
        "- Here outer loop is nothing but a row, and the inner loop is columns.\n",
        "- The inner loop finishes all of its iteration for each iteration of the outer loop."
      ],
      "metadata": {
        "id": "FwmO9kl2hiES"
      }
    },
    {
      "cell_type": "code",
      "source": [
        "rows = 5 \n",
        "# outer loop\n",
        "for i in range(1, rows + 1):\n",
        "    # inner loop\n",
        "    for j in range(1, i + 1):\n",
        "      print(j, end=\" \")\n",
        "    print(\"\")\n",
        "# for loop with else\n",
        "else:\n",
        "    print(\"Loop Finished\")"
      ],
      "metadata": {
        "colab": {
          "base_uri": "https://localhost:8080/"
        },
        "id": "oRq0xfFzEYWf",
        "outputId": "b0fc7d82-a87d-43c0-8797-0c43c14cb6e7"
      },
      "execution_count": 5,
      "outputs": [
        {
          "output_type": "stream",
          "name": "stdout",
          "text": [
            "1 \n",
            "1 2 \n",
            "1 2 3 \n",
            "1 2 3 4 \n",
            "1 2 3 4 5 \n",
            "Loop Finished\n"
          ]
        }
      ]
    },
    {
      "cell_type": "code",
      "source": [
        "# I want to write a Python program code to print the star pattern of my name is Fitri\n",
        "for row in range(8):\n",
        "  for col in range(21):\n",
        "      if row == 0 and col in (0,1,2,3,5,9,20): # can use col <= 3 for col in (0,1,2,3)\n",
        "        print(\"*\", end = \" \") \n",
        "      elif row == 1 and col in (0,9,14,16,17,18):\n",
        "        print(\"*\", end = \" \")\n",
        "      elif row == 2 and col in (0,5,9,14,15,20):\n",
        "        print(\"*\", end = \" \")     \n",
        "      elif row == 3 and col in (0,1,2,3,5,7,8,9,10,11,14,20):\n",
        "        print(\"*\", end = \" \")   \n",
        "      elif row == 4 and col in (0,5,9,14,20):\n",
        "        print(\"*\", end = \" \")   \n",
        "      elif row == 5 and col in (0,5,9,14,20):\n",
        "        print(\"*\", end = \" \")\n",
        "      elif row == 6 and col in (0,5,9,14,20):\n",
        "        print(\"*\", end = \" \")  \n",
        "      elif row == 7 and col in (0,5,9,10,11,12,14,20):\n",
        "        print(\"*\", end = \" \") \n",
        "      else :\n",
        "        print(\" \", end = \" \") \n",
        "  print()  "
      ],
      "metadata": {
        "colab": {
          "base_uri": "https://localhost:8080/"
        },
        "id": "KmMvSWbKGsdc",
        "outputId": "358f689d-8693-4961-e001-273896e1b21f"
      },
      "execution_count": 6,
      "outputs": [
        {
          "output_type": "stream",
          "name": "stdout",
          "text": [
            "* * * *   *       *                     * \n",
            "*                 *         *   * * *     \n",
            "*         *       *         * *         * \n",
            "* * * *   *   * * * * *     *           * \n",
            "*         *       *         *           * \n",
            "*         *       *         *           * \n",
            "*         *       *         *           * \n",
            "*         *       * * * *   *           * \n"
          ]
        }
      ]
    },
    {
      "cell_type": "markdown",
      "source": [
        "##Thanks you!\n",
        "**Have a great day..**\\\n",
        "*See you again* ☺️"
      ],
      "metadata": {
        "id": "-ELRm4ylZlx8"
      }
    }
  ]
}