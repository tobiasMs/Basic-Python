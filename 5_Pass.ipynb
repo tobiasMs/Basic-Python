{
  "nbformat": 4,
  "nbformat_minor": 0,
  "metadata": {
    "colab": {
      "name": "5. Pass",
      "provenance": [],
      "collapsed_sections": []
    },
    "kernelspec": {
      "name": "python3",
      "display_name": "Python 3"
    },
    "language_info": {
      "name": "python"
    }
  },
  "cells": [
    {
      "cell_type": "markdown",
      "source": [
        "#Pass\n",
        "\n",
        "If we want a statement or block of statements (statements), but do nothing to continue execution in order. It can also be said that the pass statement is used as a code block material, to fill an empty code block because if it is emptied, the python interpreter will give an error."
      ],
      "metadata": {
        "id": "T0gKSUYdvk6g"
      }
    },
    {
      "cell_type": "markdown",
      "source": [
        "This control is mostly used when we haven't implemented (or prepared a place for implementation), and let the program run when for example we experience failures or exceptions.\n",
        "\n",
        "\n",
        "pass statement is a NUll (empty) operation, nothing happens when it is called"
      ],
      "metadata": {
        "id": "EPEeWNxA9E6Z"
      }
    },
    {
      "cell_type": "markdown",
      "source": [
        "##Multiple places for Pass\n",
        "\n"
      ],
      "metadata": {
        "id": "1jBGGUtD9HwY"
      }
    },
    {
      "cell_type": "markdown",
      "source": [
        "The pass statement can be placed in several places, such as:"
      ],
      "metadata": {
        "id": "9kJu05iE-RYW"
      }
    },
    {
      "cell_type": "code",
      "source": [
        "for i in range(5):\n",
        "  pass"
      ],
      "metadata": {
        "id": "nCFx0rtE9pPH"
      },
      "execution_count": null,
      "outputs": []
    },
    {
      "cell_type": "code",
      "source": [
        "class contoh:\n",
        "  pass"
      ],
      "metadata": {
        "id": "dKuN7QiP9x86"
      },
      "execution_count": null,
      "outputs": []
    },
    {
      "cell_type": "code",
      "source": [
        "def hitung_luas_lingkaran(diameter):\n",
        "  pass"
      ],
      "metadata": {
        "id": "z0B2Igs891rG"
      },
      "execution_count": null,
      "outputs": []
    },
    {
      "cell_type": "code",
      "source": [
        "if 5 > 3:\n",
        "  pass\n",
        "else:\n",
        "  pass"
      ],
      "metadata": {
        "id": "IGmCU1nj98Kr"
      },
      "execution_count": null,
      "outputs": []
    },
    {
      "cell_type": "code",
      "source": [
        "try:\n",
        "  luas = 10 * '20'\n",
        "except:\n",
        "  pass"
      ],
      "metadata": {
        "id": "l-jWBQQm-BRW"
      },
      "execution_count": null,
      "outputs": []
    },
    {
      "cell_type": "markdown",
      "source": [
        "Example of data after letters, numbers cannot be checked again or value error"
      ],
      "metadata": {
        "id": "hjj52qb4-dJk"
      }
    },
    {
      "cell_type": "code",
      "source": [
        "n = \"\"\n",
        "\n",
        "while(n != \"sari\"): #exit makes the next number unchecked \n",
        "  n = (input(\"peroleh: \"))\n",
        "  print('dapat angka {}'.format(int(n)))"
      ],
      "metadata": {
        "colab": {
          "base_uri": "https://localhost:8080/",
          "height": 286
        },
        "id": "K0-Bfl6vydfV",
        "outputId": "fbeba9f0-78eb-49d1-e0aa-6e56c70b28be"
      },
      "execution_count": null,
      "outputs": [
        {
          "name": "stdout",
          "output_type": "stream",
          "text": [
            "peroleh: 1\n",
            "dapat angka 1\n",
            "peroleh: 2\n",
            "dapat angka 2\n",
            "peroleh: sari\n"
          ]
        },
        {
          "output_type": "error",
          "ename": "ValueError",
          "evalue": "ignored",
          "traceback": [
            "\u001b[0;31m---------------------------------------------------------------------------\u001b[0m",
            "\u001b[0;31mValueError\u001b[0m                                Traceback (most recent call last)",
            "\u001b[0;32m<ipython-input-9-392d4515a391>\u001b[0m in \u001b[0;36m<module>\u001b[0;34m()\u001b[0m\n\u001b[1;32m      3\u001b[0m \u001b[0;32mwhile\u001b[0m\u001b[0;34m(\u001b[0m\u001b[0mn\u001b[0m \u001b[0;34m!=\u001b[0m \u001b[0;34m\"sari\"\u001b[0m\u001b[0;34m)\u001b[0m\u001b[0;34m:\u001b[0m \u001b[0;31m#exit makes the next number unchecked\u001b[0m\u001b[0;34m\u001b[0m\u001b[0;34m\u001b[0m\u001b[0m\n\u001b[1;32m      4\u001b[0m   \u001b[0mn\u001b[0m \u001b[0;34m=\u001b[0m \u001b[0;34m(\u001b[0m\u001b[0minput\u001b[0m\u001b[0;34m(\u001b[0m\u001b[0;34m\"peroleh: \"\u001b[0m\u001b[0;34m)\u001b[0m\u001b[0;34m)\u001b[0m\u001b[0;34m\u001b[0m\u001b[0;34m\u001b[0m\u001b[0m\n\u001b[0;32m----> 5\u001b[0;31m   \u001b[0mprint\u001b[0m\u001b[0;34m(\u001b[0m\u001b[0;34m'dapat angka {}'\u001b[0m\u001b[0;34m.\u001b[0m\u001b[0mformat\u001b[0m\u001b[0;34m(\u001b[0m\u001b[0mint\u001b[0m\u001b[0;34m(\u001b[0m\u001b[0mn\u001b[0m\u001b[0;34m)\u001b[0m\u001b[0;34m)\u001b[0m\u001b[0;34m)\u001b[0m\u001b[0;34m\u001b[0m\u001b[0;34m\u001b[0m\u001b[0m\n\u001b[0m",
            "\u001b[0;31mValueError\u001b[0m: invalid literal for int() with base 10: 'sari'"
          ]
        }
      ]
    },
    {
      "cell_type": "markdown",
      "source": [
        "The data can still be run or restarted even though the data has exited with a letter or other."
      ],
      "metadata": {
        "id": "9eo19m2-_D0M"
      }
    },
    {
      "cell_type": "code",
      "source": [
        "import sys\n",
        "n = ''\n",
        "\n",
        "while(n != \"matplotlib\"):\n",
        "  try:\n",
        "    n = (input(\"peroleh: \"))\n",
        "    print('dapat angka{}'.format(int(n)))\n",
        "  except:\n",
        "    if n == 'matplotlib' :\n",
        "      pass\n",
        "    else:\n",
        "      print('dapat error {}'.format(sys.exc_info()[0]))"
      ],
      "metadata": {
        "id": "nFpZVm1eC8TA"
      },
      "execution_count": null,
      "outputs": []
    }
  ]
}