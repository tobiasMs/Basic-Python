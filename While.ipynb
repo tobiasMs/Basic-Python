{
  "nbformat": 4,
  "nbformat_minor": 0,
  "metadata": {
    "colab": {
      "name": "While.ipynb",
      "provenance": [],
      "collapsed_sections": []
    },
    "kernelspec": {
      "name": "python3",
      "display_name": "Python 3"
    },
    "language_info": {
      "name": "python"
    }
  },
  "cells": [
    {
      "cell_type": "markdown",
      "source": [
        " **While**\n",
        "- While loop is basically used to know how many iterations are required.\n",
        "- The while loop can execute a set of statements as long as a certain condition is true.\n",
        "- The condition may be any expression, and true is any non-zero value. \n",
        "-  When the condition becomes false, program control passes to the line immediately following the loop."
      ],
      "metadata": {
        "id": "wgPh1V_rnLow"
      }
    },
    {
      "cell_type": "code",
      "source": [
        "number = int(input())\n",
        "\n",
        "while (number < 20):\n",
        "  number = number + 3 \n",
        "  print(\"Number is\", number)"
      ],
      "metadata": {
        "colab": {
          "base_uri": "https://localhost:8080/"
        },
        "id": "3yOP-XcxmBWQ",
        "outputId": "6682b674-97f5-4a0b-d80c-18885f3059d5"
      },
      "execution_count": 1,
      "outputs": [
        {
          "output_type": "stream",
          "name": "stdout",
          "text": [
            "1\n",
            "Number is 4\n",
            "Number is 7\n",
            "Number is 10\n",
            "Number is 13\n",
            "Number is 16\n",
            "Number is 19\n",
            "Number is 22\n"
          ]
        }
      ]
    },
    {
      "cell_type": "code",
      "source": [
        "# outer loop\n",
        "for i in range(1, 6):\n",
        "    print(\"Multiplication table of:\", i)\n",
        "    count = 1\n",
        "    # inner loop to print multiplication table of current number\n",
        "    while count < 11:\n",
        "        print(i * count, end=\" \")\n",
        "        count = count + 1\n",
        "    print(\"\\n\")"
      ],
      "metadata": {
        "colab": {
          "base_uri": "https://localhost:8080/"
        },
        "id": "M7C80tkkqYQm",
        "outputId": "5bff10ad-6fb3-40f4-e570-3835864bec48"
      },
      "execution_count": 2,
      "outputs": [
        {
          "output_type": "stream",
          "name": "stdout",
          "text": [
            "Multiplication table of: 1\n",
            "1 2 3 4 5 6 7 8 9 10 \n",
            "\n",
            "Multiplication table of: 2\n",
            "2 4 6 8 10 12 14 16 18 20 \n",
            "\n",
            "Multiplication table of: 3\n",
            "3 6 9 12 15 18 21 24 27 30 \n",
            "\n",
            "Multiplication table of: 4\n",
            "4 8 12 16 20 24 28 32 36 40 \n",
            "\n",
            "Multiplication table of: 5\n",
            "5 10 15 20 25 30 35 40 45 50 \n",
            "\n"
          ]
        }
      ]
    },
    {
      "cell_type": "code",
      "source": [
        "# Remember to increment statement or else the loop will continue forever\n",
        "# This code will keep on running unless the condition becomes invalid\n",
        "\n",
        "#one = 1\n",
        "#while (one):\n",
        "#    print(\"To infinity and beyond! We're getting close, on %d now!\" % (one))\n",
        "#    number += 1"
      ],
      "metadata": {
        "id": "ydawgunPmd-s"
      },
      "execution_count": 3,
      "outputs": []
    },
    {
      "cell_type": "markdown",
      "source": [
        "##Thanks you!\n",
        "**Have a great day..**\\\n",
        "*See you again* ☺️"
      ],
      "metadata": {
        "id": "uh9xX7-y_u1e"
      }
    }
  ]
}