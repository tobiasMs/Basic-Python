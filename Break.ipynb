{
  "nbformat": 4,
  "nbformat_minor": 0,
  "metadata": {
    "colab": {
      "name": "Break.ipynb",
      "provenance": [],
      "collapsed_sections": []
    },
    "kernelspec": {
      "name": "python3",
      "display_name": "Python 3"
    },
    "language_info": {
      "name": "python"
    }
  },
  "cells": [
    {
      "cell_type": "markdown",
      "source": [
        "**Break**\n",
        "- The break statement is used to terminate (stop) the loop, when a condition is met.\n",
        "- To do this, use the break keyword with if statement to stop and exit the loop. The break is a keyword in Python which is used to exit the loop.\n",
        "- When the break statement is encountered, Python stops the current loop, and the control flow is transferred to the following line of code immediately following the loop.\n",
        "- if the break statement is used inside a nested loop (loop inside another loop), it will terminate the innermost loop."
      ],
      "metadata": {
        "id": "FFnPXBvztoPQ"
      }
    },
    {
      "cell_type": "code",
      "source": [
        "variabel = \"Data Science Track\"\n",
        "\n",
        "for job in variabel:\n",
        "  if job == variabel [13]: \n",
        "    # breaking a loop\n",
        "    break \n",
        "  print(job)"
      ],
      "metadata": {
        "colab": {
          "base_uri": "https://localhost:8080/"
        },
        "id": "TeuCwJ2p1qs-",
        "outputId": "7666ba12-8247-4fc1-9df6-c9a1d8e93f3d"
      },
      "execution_count": 1,
      "outputs": [
        {
          "output_type": "stream",
          "name": "stdout",
          "text": [
            "D\n",
            "a\n",
            "t\n",
            "a\n",
            " \n",
            "S\n",
            "c\n",
            "i\n",
            "e\n",
            "n\n",
            "c\n",
            "e\n",
            " \n"
          ]
        }
      ]
    },
    {
      "cell_type": "code",
      "source": [
        "# break loop when sum is greater than 21\n",
        "sum = 0\n",
        "for i in range(10):\n",
        "    sum += i * 1\n",
        "    if sum > 21:\n",
        "        break\n",
        "print(\"Sum = \", sum) \n",
        "# Sum range of 0 until 7 because is greater than 21"
      ],
      "metadata": {
        "colab": {
          "base_uri": "https://localhost:8080/"
        },
        "id": "g5G-qD-89TBd",
        "outputId": "3ff95627-d8d0-4b74-c3f6-e27391d6aaa9"
      },
      "execution_count": 2,
      "outputs": [
        {
          "output_type": "stream",
          "name": "stdout",
          "text": [
            "Sum =  28\n"
          ]
        }
      ]
    },
    {
      "cell_type": "code",
      "source": [
        "# break loop when i > 15\n",
        "numbers = [1, 4, 7, 8, 15, 20, 35, 45, 55]\n",
        "for i in numbers:\n",
        "    if i > 15:\n",
        "        # break the loop\n",
        "        break\n",
        "    else:\n",
        "        print(i)"
      ],
      "metadata": {
        "colab": {
          "base_uri": "https://localhost:8080/"
        },
        "id": "JYxcn9qaCXPv",
        "outputId": "ca172151-9435-4ddb-98cf-a5ed3d33acf7"
      },
      "execution_count": 3,
      "outputs": [
        {
          "output_type": "stream",
          "name": "stdout",
          "text": [
            "1\n",
            "4\n",
            "7\n",
            "8\n",
            "15\n"
          ]
        }
      ]
    },
    {
      "cell_type": "markdown",
      "source": [
        "##Thanks you!\n",
        "**Have a great day..**\\\n",
        "*See you again* ☺️"
      ],
      "metadata": {
        "id": "k_8j6-FtaIfX"
      }
    }
  ]
}